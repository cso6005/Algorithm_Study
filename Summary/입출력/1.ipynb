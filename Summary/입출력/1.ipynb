{
 "cells": [
  {
   "attachments": {},
   "cell_type": "markdown",
   "metadata": {},
   "source": [
    "## 1. 입력\n",
    "- 입력값은 문자열로 입력되기에 먼저 문자/문자열/정수/실수 인지에 따라 정확하게 변환시킨 다음에 사용하는 것이 좋다."
   ]
  },
  {
   "attachments": {},
   "cell_type": "markdown",
   "metadata": {},
   "source": [
    "#### 입력 input() 받기"
   ]
  },
  {
   "cell_type": "code",
   "execution_count": null,
   "metadata": {},
   "outputs": [],
   "source": [
    "#1. 구분자 공백을 두고 입력된 수를 받고 싶을 때\n",
    "\n",
    "x, y = input().split()\n"
   ]
  },
  {
   "cell_type": "code",
   "execution_count": null,
   "metadata": {},
   "outputs": [],
   "source": [
    "#2. 구분자 : 을 두고 입력된 수를 받고 싶을 때\n",
    "x, y = input().split(':')\n"
   ]
  },
  {
   "cell_type": "code",
   "execution_count": null,
   "metadata": {},
   "outputs": [],
   "source": [
    "#3. 한 줄에 여러 값 받을 때, 한줄로 int 정수로 바꾸는 방법\n",
    "A, B = map(int, input().split())\n",
    "\n",
    "lst = [map(int, input().split())]\n"
   ]
  },
  {
   "attachments": {},
   "cell_type": "markdown",
   "metadata": {},
   "source": [
    "#### 10진수가 아닌 다른 진법 정수를 입력 받기\n",
    "\n"
   ]
  },
  {
   "cell_type": "code",
   "execution_count": 2,
   "metadata": {},
   "outputs": [],
   "source": [
    "x = int(input(), 16) # 입력된 값을 16진수로 인식해서 x 에 저장"
   ]
  },
  {
   "cell_type": "markdown",
   "metadata": {},
   "source": [
    "## 2. 출력"
   ]
  },
  {
   "cell_type": "code",
   "execution_count": 4,
   "metadata": {},
   "outputs": [
    {
     "name": "stdout",
     "output_type": "stream",
     "text": [
      "15.00\n"
     ]
    }
   ],
   "source": [
    "# 실수 출력 형식 정하기\n",
    "x = float(input())\n",
    "print('%.2f' %x)\n",
    "print(format(x, '.2f'))"
   ]
  },
  {
   "cell_type": "code",
   "execution_count": 4,
   "metadata": {},
   "outputs": [
    {
     "name": "stdout",
     "output_type": "stream",
     "text": [
      "1 2 3|\n",
      "---------\n",
      "1|2|3\n"
     ]
    }
   ],
   "source": [
    "# print( )\n",
    "\n",
    "# end 는 print() 끝에 항상 \\n 줄내림이다. 이걸 대신할 문자를 넣어 출력하는 것 \n",
    "print(1, 2, 3, end='|')\n",
    "print('\\n---------')\n",
    "\n",
    "# print 내 콤마로 이뤄진 여러 변수나 수가 있을 경우 이를 구분하는 구분자를 넣어 출력하는 것\n",
    "print(1, 2, 3, sep='|')\n"
   ]
  },
  {
   "attachments": {},
   "cell_type": "markdown",
   "metadata": {},
   "source": [
    "## 3. 진법 변환"
   ]
  },
  {
   "cell_type": "markdown",
   "metadata": {},
   "source": [
    "#### 진법 형태로 저장하기"
   ]
  },
  {
   "cell_type": "code",
   "execution_count": null,
   "metadata": {},
   "outputs": [],
   "source": [
    "# 8 진수로 인식하여 10진수로 저장\n",
    "n = 0o10 # 8 진수 10 으로 인식되어 10진수 8이 저장\n",
    "\n",
    "# 16 진수로 인식하여 10진수로 저장\n",
    "n = 0xf # 15로 저장됨\n",
    "n = 0XF # 15로 저장됨\n"
   ]
  },
  {
   "attachments": {},
   "cell_type": "markdown",
   "metadata": {},
   "source": [
    "#### 출력 변환 : 10진수 <-> 2진수, 8진수, 16진수 .... "
   ]
  },
  {
   "cell_type": "code",
   "execution_count": null,
   "metadata": {},
   "outputs": [],
   "source": [
    "#1. 10진 정수 입력 받아 16진수로 출력하기1\n",
    "\n",
    "a = int(input())\n",
    "\n",
    "# 10진수 -> 16진수(소문자)\n",
    "print('%x' %a)\n",
    "\n",
    "# 10진수 -> 16진수(대문자)\n",
    "print('%X' %a)\n",
    "\n",
    "# 10진수 -> 8진수\n",
    "print('%o' %a)"
   ]
  },
  {
   "attachments": {},
   "cell_type": "markdown",
   "metadata": {},
   "source": [
    "#### 유니코드로 변환\n",
    "- 유니코드 : 세계 여러 나라의 문자를 공통된 코드 값으로 저장할 때 사용하는 표준 코드\n",
    "- 실제로 각각의 문자들에는 연속된 정수 값이 순서에 따라 부여 되어 있는 ord() 는 문자 를 10진수 유니코드로 변환한다.\n",
    "    - 예를 들어, 영문 대문자 'A' 는 10진수 값 65 로 표현하고 2진수 값 1000001 로 바꿔 컴퓨터 내부에 저장한다."
   ]
  },
  {
   "cell_type": "code",
   "execution_count": null,
   "metadata": {},
   "outputs": [],
   "source": [
    "# ord() 문자 -> 정수\n",
    "# 입력받은 문자를 10진수 유니코드로 변환\n",
    "x = ord(input())\n"
   ]
  },
  {
   "cell_type": "code",
   "execution_count": null,
   "metadata": {},
   "outputs": [],
   "source": [
    "# chr() 정수 -> 문자\n",
    "# 입력받은 정수를 유니코드 문자로 변환\n",
    "# ord() 반대\n",
    "x = chr(input())"
   ]
  },
  {
   "attachments": {},
   "cell_type": "markdown",
   "metadata": {},
   "source": [
    "## 비트 연산자 연산\n",
    "\n",
    "- 왼쪽 비트시프트 : n<<갯수\n",
    "    - 오른쪽에 0이 주어진 갯수만큼 추가\n",
    "    - 곱하기 연산 활용 => n<<1 : 2배, n<<2 : 4배 ...\n",
    "- 오른쪽 비트시프트 n<<갯수\n",
    "    - 왼쪽에 0 (0또는 양수인 경우) 이나 1(음수인 경우)이 개수만큼 추가되고 가장 오른쪽에 있는 1비트 사라짐\n",
    "    - 나누기 연산 활용 => n>>1 : /2, n>>2 : /4 ...\n",
    "- 파이썬에서 실수 값에 대한 비트시프트 연산은 허용되지 않고 오류.\n",
    "\n"
   ]
  },
  {
   "cell_type": "code",
   "execution_count": 8,
   "metadata": {},
   "outputs": [
    {
     "name": "stdout",
     "output_type": "stream",
     "text": [
      "20\n",
      "5\n",
      "40\n",
      "2\n"
     ]
    }
   ],
   "source": [
    "n = 10 # 1010\n",
    "print(n<<1) # 10100 -> 20\n",
    "print(n>>1) # 101 -> 5\n",
    "print(n<<2) # 101000\n",
    "print(n>>2) # 10"
   ]
  },
  {
   "attachments": {},
   "cell_type": "markdown",
   "metadata": {},
   "source": [
    "#### 비트 단위 연산자\n",
    "- 컴퓨터에 저장되는 모든 데이터들은 2진수 형태로 바꿔어 저장된다. 0 과 1로만 구성되는 비트단위들로 변환되어 저장되는 것\n",
    "- **비트 단위 연산자와 논리연산자를 구분할 수 있어야 한다. 흔히 and or xor 의 경우 같은 연산 결과를 불러오긴 하나, 같은 개념이 아님을 알아야 한다.!!**\n",
    "\n",
    "1. ~ bitwise not\n",
    "    - 1 = 00000000 ... 00000001 \n",
    "    - ~1 = 111111111 ... 11111110 = -2\n",
    "2. & bitwise and\n",
    "3. | bitwise or\n",
    "4. ^ bitwise xor\n",
    "5. '<<' bitwise left\n",
    "6. '>>' bitwise right shift"
   ]
  },
  {
   "attachments": {},
   "cell_type": "markdown",
   "metadata": {},
   "source": []
  }
 ],
 "metadata": {
  "kernelspec": {
   "display_name": "csy",
   "language": "python",
   "name": "python3"
  },
  "language_info": {
   "codemirror_mode": {
    "name": "ipython",
    "version": 3
   },
   "file_extension": ".py",
   "mimetype": "text/x-python",
   "name": "python",
   "nbconvert_exporter": "python",
   "pygments_lexer": "ipython3",
   "version": "3.7.15 (default, Nov 24 2022, 18:44:54) [MSC v.1916 64 bit (AMD64)]"
  },
  "orig_nbformat": 4,
  "vscode": {
   "interpreter": {
    "hash": "67ff4a1e503421e53f5d4ebcac0b03c71691604597d2dc743fd63d8a19893ef6"
   }
  }
 },
 "nbformat": 4,
 "nbformat_minor": 2
}
