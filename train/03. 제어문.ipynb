{
 "cells": [
  {
   "cell_type": "code",
   "execution_count": 8,
   "metadata": {},
   "outputs": [
    {
     "name": "stdout",
     "output_type": "stream",
     "text": [
      "양수 입니다.\n",
      "입력한 값은 100000 입니다.\n",
      "1000 이상의 수입니다.\n",
      "종료\n"
     ]
    }
   ],
   "source": [
    "num = int(input(\"정수 : \"))\n",
    "\n",
    "if num == 0:\n",
    "    print(\"0 입니다.\")\n",
    "elif num > 0:\n",
    "    print(\"양수 입니다.\")\n",
    "    if num >= 1000:\n",
    "        print(\"1000 이상의 수입니다.\")\n",
    "        print(f\"입력한 값은 {num} 입니다.\")\n",
    "\n",
    "    else:\n",
    "        print(\"1000 이하의 수 입니다.\")\n",
    "        print(f\"입력한 값은 {num} 입니다.\")\n",
    "\n",
    "else:\n",
    "    print(\"음수 입니다.\")\n",
    "    print(f\"입력한 값은 {num} 입니다.\")\n",
    "print(\"종료\")"
   ]
  },
  {
   "cell_type": "code",
   "execution_count": 10,
   "metadata": {},
   "outputs": [
    {
     "name": "stdout",
     "output_type": "stream",
     "text": [
      "1 번째 입니다.\n",
      "----------\n",
      "2 번째 입니다.\n",
      "----------\n",
      "3 번째 입니다.\n",
      "----------\n",
      "4 번째 입니다.\n",
      "----------\n",
      "5 번째 입니다.\n",
      "----------\n"
     ]
    }
   ],
   "source": [
    "limit = int(input(\"반복 횟수 : \"))\n",
    "count = 0\n",
    "while count < limit:\n",
    "    count+=1\n",
    "    print(f\"{count} 번째 입니다.\")\n",
    "    print(\"-\"*10)\n"
   ]
  },
  {
   "cell_type": "code",
   "execution_count": 13,
   "metadata": {},
   "outputs": [
    {
     "name": "stdout",
     "output_type": "stream",
     "text": [
      "10 10\n",
      "5 15\n",
      "7 22\n",
      "9 31\n",
      "100 131\n",
      "50 181\n",
      "27 208\n",
      "123 331\n",
      "22 353\n",
      "90 443\n",
      "443\n"
     ]
    }
   ],
   "source": [
    "lst = [10, 5, 7, 9, 100, 50, 27, 123, 22, 90]\n",
    "sum = 0\n",
    "\n",
    "for l in lst:\n",
    "    sum += l\n",
    "    print(l ,sum)\n",
    "\n",
    "\n",
    "print(sum)"
   ]
  },
  {
   "cell_type": "code",
   "execution_count": 18,
   "metadata": {},
   "outputs": [
    {
     "name": "stdout",
     "output_type": "stream",
     "text": [
      "10 20 30 "
     ]
    }
   ],
   "source": [
    "for v in (10, 20, 30):\n",
    "    print(v, end=\" \")"
   ]
  },
  {
   "cell_type": "code",
   "execution_count": 19,
   "metadata": {},
   "outputs": [
    {
     "name": "stdout",
     "output_type": "stream",
     "text": [
      "name\n",
      "소영\n",
      "age\n",
      "26\n"
     ]
    }
   ],
   "source": [
    "dict = {\"name\":\"소영\", \"age\":26}\n",
    "for key in dict:\n",
    "    print(key)\n",
    "    print(dict[key])"
   ]
  },
  {
   "cell_type": "code",
   "execution_count": 20,
   "metadata": {},
   "outputs": [
    {
     "name": "stdout",
     "output_type": "stream",
     "text": [
      "소영\n",
      "26\n"
     ]
    }
   ],
   "source": [
    "for value in dict.values():\n",
    "    print(value)"
   ]
  },
  {
   "cell_type": "code",
   "execution_count": 21,
   "metadata": {},
   "outputs": [
    {
     "name": "stdout",
     "output_type": "stream",
     "text": [
      "안\n",
      "녕\n",
      "하\n",
      "세\n",
      "요\n"
     ]
    }
   ],
   "source": [
    "for v in \"안녕하세요\":\n",
    "    print(v)"
   ]
  },
  {
   "cell_type": "code",
   "execution_count": 22,
   "metadata": {},
   "outputs": [
    {
     "name": "stdout",
     "output_type": "stream",
     "text": [
      "안녕하세요"
     ]
    }
   ],
   "source": [
    "for v in \"안녕하세요\":\n",
    "    print(v, end=\"\")"
   ]
  },
  {
   "cell_type": "code",
   "execution_count": 23,
   "metadata": {},
   "outputs": [
    {
     "data": {
      "text/plain": [
       "['안', '녕', '하', '세', '요']"
      ]
     },
     "execution_count": 23,
     "metadata": {},
     "output_type": "execute_result"
    }
   ],
   "source": [
    "list(\"안녕하세요\")"
   ]
  },
  {
   "cell_type": "code",
   "execution_count": 24,
   "metadata": {},
   "outputs": [
    {
     "data": {
      "text/plain": [
       "('안', '녕', '하', '세', '요')"
      ]
     },
     "execution_count": 24,
     "metadata": {},
     "output_type": "execute_result"
    }
   ],
   "source": [
    "tuple(\"안녕하세요\")"
   ]
  },
  {
   "cell_type": "code",
   "execution_count": 26,
   "metadata": {},
   "outputs": [
    {
     "name": "stdout",
     "output_type": "stream",
     "text": [
      "10\n",
      "100\n",
      "50\n",
      "22\n",
      "90\n"
     ]
    }
   ],
   "source": [
    "lst = [10, 5, 7, 9, 100, 50, 27, 123, 22, 90]\n",
    "\n",
    "for l in lst:\n",
    "    if l%2 != 0:\n",
    "        continue\n",
    "    print(l)"
   ]
  },
  {
   "cell_type": "code",
   "execution_count": 27,
   "metadata": {},
   "outputs": [
    {
     "name": "stdout",
     "output_type": "stream",
     "text": [
      "입력값: ㅇ\n",
      "입력값: ㅇ\n",
      "입력값: ㅈ\n",
      "입력값: ㅆㅅ\n",
      "종료\n"
     ]
    }
   ],
   "source": [
    "while True:\n",
    "    s = input()\n",
    "    if s == 'q!':\n",
    "        break\n",
    "    print(\"입력값:\", s)\n",
    "print(\"종료\")"
   ]
  },
  {
   "cell_type": "code",
   "execution_count": 28,
   "metadata": {},
   "outputs": [
    {
     "name": "stdout",
     "output_type": "stream",
     "text": [
      "10\n",
      "20\n",
      "30\n",
      "40\n",
      "50\n",
      "60\n",
      "70\n",
      "80\n",
      "90\n",
      "100\n"
     ]
    }
   ],
   "source": [
    "for i in range(10, 101, 10):\n",
    "    print(i)"
   ]
  },
  {
   "cell_type": "code",
   "execution_count": 38,
   "metadata": {},
   "outputs": [
    {
     "data": {
      "text/plain": [
       "([10, 20, 30, 40, 50, 60, 70, 80, 90], {10, 20, 30, 40, 50, 60, 70, 80, 90})"
      ]
     },
     "execution_count": 38,
     "metadata": {},
     "output_type": "execute_result"
    }
   ],
   "source": [
    "list(range(10,100,10)), set(range(10,100,10))\n"
   ]
  },
  {
   "cell_type": "code",
   "execution_count": 43,
   "metadata": {},
   "outputs": [
    {
     "data": {
      "text/plain": [
       "[100, 95, 90, 85, 80, 75, 70, 65, 60, 55, 50, 45, 40, 35, 30, 25, 20, 15]"
      ]
     },
     "execution_count": 43,
     "metadata": {},
     "output_type": "execute_result"
    }
   ],
   "source": [
    "list(range(100,10,-5))"
   ]
  },
  {
   "cell_type": "code",
   "execution_count": 44,
   "metadata": {},
   "outputs": [
    {
     "data": {
      "text/plain": [
       "[10, 11, 12, 13, 14, 15, 16, 17, 18, 19]"
      ]
     },
     "execution_count": 44,
     "metadata": {},
     "output_type": "execute_result"
    }
   ],
   "source": [
    "list(range(10,20,))"
   ]
  },
  {
   "cell_type": "code",
   "execution_count": 48,
   "metadata": {},
   "outputs": [
    {
     "name": "stdout",
     "output_type": "stream",
     "text": [
      "a\n",
      "a\n",
      "a\n",
      "a\n",
      "a\n",
      "a\n",
      "a\n",
      "a\n",
      "a\n",
      "a\n"
     ]
    }
   ],
   "source": [
    "for _ in range(10):\n",
    "    print(\"a\")"
   ]
  },
  {
   "cell_type": "code",
   "execution_count": 49,
   "metadata": {},
   "outputs": [
    {
     "name": "stdout",
     "output_type": "stream",
     "text": [
      "(0, 10)\n",
      "(1, 5)\n",
      "(2, 6)\n",
      "(3, 4)\n",
      "(4, 7)\n",
      "(5, 2)\n"
     ]
    }
   ],
   "source": [
    "lst = [10,5,6,4,7,2]\n",
    "\n",
    "for i in enumerate(lst):\n",
    "    print(i)"
   ]
  },
  {
   "cell_type": "code",
   "execution_count": 51,
   "metadata": {},
   "outputs": [
    {
     "name": "stdout",
     "output_type": "stream",
     "text": [
      "(100, 10)\n",
      "(101, 5)\n",
      "(102, 6)\n",
      "(103, 4)\n",
      "(104, 7)\n",
      "(105, 2)\n"
     ]
    }
   ],
   "source": [
    "for i in enumerate(lst, start=100):\n",
    "    print(i)"
   ]
  },
  {
   "cell_type": "code",
   "execution_count": 52,
   "metadata": {},
   "outputs": [
    {
     "name": "stdout",
     "output_type": "stream",
     "text": [
      "0 번째 숫자는 10 입니다.\n",
      "1 번째 숫자는 5 입니다.\n",
      "2 번째 숫자는 6 입니다.\n",
      "3 번째 숫자는 4 입니다.\n",
      "4 번째 숫자는 7 입니다.\n",
      "5 번째 숫자는 2 입니다.\n"
     ]
    }
   ],
   "source": [
    "for idx, value in enumerate(lst):\n",
    "    print(f\"{idx} 번째 숫자는 {value} 입니다.\")"
   ]
  },
  {
   "cell_type": "code",
   "execution_count": 55,
   "metadata": {},
   "outputs": [
    {
     "name": "stdout",
     "output_type": "stream",
     "text": [
      "홍길동 30 서울 a@a.com\n",
      "이순신 40 인천 l@a.com\n",
      "강감찬 50 수원 avc@a.com\n"
     ]
    }
   ],
   "source": [
    "names = ['홍길동','이순신','강감찬']\n",
    "ages = [30, 40, 50]\n",
    "address = ['서울', '인천', '수원']\n",
    "emails = ['a@a.com', 'l@a.com', 'avc@a.com', 'dfl@c.ocm']\n",
    "\n",
    "\n",
    "for name, age, addr, email in zip(names, ages, address, emails):\n",
    "    print(name, age, addr, email)"
   ]
  },
  {
   "cell_type": "code",
   "execution_count": 56,
   "metadata": {},
   "outputs": [
    {
     "name": "stdout",
     "output_type": "stream",
     "text": [
      "[5, 10, 15, 20, 25]\n"
     ]
    }
   ],
   "source": [
    "l1 = [1, 2, 3, 4, 5]\n",
    "\n",
    "new_lst = []\n",
    "\n",
    "for i in l1:\n",
    "    new_lst.append(i * 5)\n",
    "\n",
    "print(new_lst)"
   ]
  },
  {
   "cell_type": "code",
   "execution_count": 57,
   "metadata": {},
   "outputs": [
    {
     "name": "stdout",
     "output_type": "stream",
     "text": [
      "[5, 10, 15, 20, 25]\n"
     ]
    }
   ],
   "source": [
    "lst = [i * 5 for i in l1]\n",
    "print(lst)"
   ]
  },
  {
   "cell_type": "code",
   "execution_count": 58,
   "metadata": {},
   "outputs": [
    {
     "data": {
      "text/plain": [
       "{5, 10, 15, 20, 25}"
      ]
     },
     "execution_count": 58,
     "metadata": {},
     "output_type": "execute_result"
    }
   ],
   "source": [
    "s = {i * 5 for i in l1}\n",
    "\n",
    "s"
   ]
  },
  {
   "cell_type": "code",
   "execution_count": 68,
   "metadata": {},
   "outputs": [
    {
     "data": {
      "text/plain": [
       "{'0번': 25, '1번': 50, '2번': 75, '3번': 100, '4번': 125}"
      ]
     },
     "execution_count": 68,
     "metadata": {},
     "output_type": "execute_result"
    }
   ],
   "source": [
    "d = { str(k) + \"번\":v*5 for k, v in enumerate(lst)}\n",
    "d"
   ]
  },
  {
   "cell_type": "code",
   "execution_count": 66,
   "metadata": {},
   "outputs": [
    {
     "name": "stdout",
     "output_type": "stream",
     "text": [
      "<class 'int'>\n",
      "<class 'int'>\n",
      "<class 'int'>\n",
      "<class 'int'>\n",
      "<class 'int'>\n"
     ]
    }
   ],
   "source": [
    "d = { k:v*5 for k, v in enumerate(lst)}\n",
    "\n",
    "for k in d:\n",
    "    print(type(k))"
   ]
  },
  {
   "cell_type": "code",
   "execution_count": 69,
   "metadata": {},
   "outputs": [
    {
     "name": "stdout",
     "output_type": "stream",
     "text": [
      "0번\n",
      "1번\n",
      "2번\n",
      "3번\n",
      "4번\n"
     ]
    }
   ],
   "source": [
    "for v in d:\n",
    "    print(v)"
   ]
  },
  {
   "cell_type": "code",
   "execution_count": 71,
   "metadata": {},
   "outputs": [
    {
     "name": "stdout",
     "output_type": "stream",
     "text": [
      "25\n",
      "50\n",
      "75\n",
      "100\n",
      "125\n"
     ]
    }
   ],
   "source": [
    "for v in d.values():\n",
    "    print(v)"
   ]
  },
  {
   "cell_type": "code",
   "execution_count": 73,
   "metadata": {},
   "outputs": [
    {
     "name": "stdout",
     "output_type": "stream",
     "text": [
      "0번 25\n",
      "1번 50\n",
      "2번 75\n",
      "3번 100\n",
      "4번 125\n"
     ]
    }
   ],
   "source": [
    "for x,y in d.items():\n",
    "    print(x,y)"
   ]
  },
  {
   "cell_type": "code",
   "execution_count": 74,
   "metadata": {},
   "outputs": [
    {
     "data": {
      "text/plain": [
       "['A', 'B', 'C', 'D']"
      ]
     },
     "execution_count": 74,
     "metadata": {},
     "output_type": "execute_result"
    }
   ],
   "source": [
    "lst = ['a', 'b', 'c', 'd']\n",
    "\n",
    "new_lst = [ i.upper() for i in lst]\n",
    "\n",
    "new_lst"
   ]
  },
  {
   "cell_type": "code",
   "execution_count": 75,
   "metadata": {},
   "outputs": [
    {
     "data": {
      "text/plain": [
       "['A', 'B', 'C']"
      ]
     },
     "execution_count": 75,
     "metadata": {},
     "output_type": "execute_result"
    }
   ],
   "source": [
    "lst = ['a', 'abc', 'b', 'c','djkf']\n",
    "\n",
    "new_lst = [ i.upper() for i in lst if len(i) == 1 ]\n",
    "new_lst"
   ]
  },
  {
   "cell_type": "code",
   "execution_count": 79,
   "metadata": {},
   "outputs": [
    {
     "data": {
      "text/plain": [
       "['a', 'b', 'c']"
      ]
     },
     "execution_count": 79,
     "metadata": {},
     "output_type": "execute_result"
    }
   ],
   "source": [
    "l = list(filter(lambda x : len(x)==1 , lst))\n",
    "\n",
    "l"
   ]
  },
  {
   "cell_type": "code",
   "execution_count": 80,
   "metadata": {},
   "outputs": [
    {
     "data": {
      "text/plain": [
       "[0, 4, 8]"
      ]
     },
     "execution_count": 80,
     "metadata": {},
     "output_type": "execute_result"
    }
   ],
   "source": [
    "# if 문 여러 개 and 조건을 묶임\n",
    "[i for i in range(10) if i%2==0 if i%4==0]"
   ]
  },
  {
   "cell_type": "code",
   "execution_count": 81,
   "metadata": {},
   "outputs": [
    {
     "data": {
      "text/plain": [
       "['A', 'abc', 'B', 'C', 'djkf']"
      ]
     },
     "execution_count": 81,
     "metadata": {},
     "output_type": "execute_result"
    }
   ],
   "source": [
    "# 컴플리헨션 if else => 왼쪽에 if 문 사용\n",
    "# 왼쪽에 if 문 쓰는 경우엔 항상 else 까지 써야 함.\n",
    "# else 가 필요할 때만 왼쪽에쓰자.\n",
    "\n",
    "new_lst = [ i.upper() if len(i) == 1 else i for i in lst ]\n",
    "new_lst"
   ]
  },
  {
   "cell_type": "code",
   "execution_count": 82,
   "metadata": {},
   "outputs": [
    {
     "data": {
      "text/plain": [
       "['양수', '음수', '제로', '양수', '양수', '음수']"
      ]
     },
     "execution_count": 82,
     "metadata": {},
     "output_type": "execute_result"
    }
   ],
   "source": [
    "# if else 여러 개. elif 와 같은 효과\n",
    "\n",
    "i = [1, -2, 0, 4, 100, -5]\n",
    "\n",
    "[ \"제로\" if v==0 else \"양수\" if v>0 else \"음수\" for v in i ]"
   ]
  },
  {
   "cell_type": "code",
   "execution_count": 83,
   "metadata": {},
   "outputs": [
    {
     "data": {
      "text/plain": [
       "[[0, 0], [0, 1], [0, 2], [1, 0], [1, 1], [1, 2]]"
      ]
     },
     "execution_count": 83,
     "metadata": {},
     "output_type": "execute_result"
    }
   ],
   "source": [
    "# for문 2개 사용\n",
    "\n",
    "# i가 0,1을 반복하며, 각각 j가 0~2를 반복하게 됩니다. \n",
    "# 즉, i가 2번 반복되는 동안, j가 3번 반복되어 총 6가지가 출력됩니다. \n",
    "# 출력되는 i, j에 대해서 리스트나 튜플 집합으로 묶어야 정상 동작합니다.\n",
    "\n",
    "[ [i, j] for i in range(2) for j in range(3)]"
   ]
  },
  {
   "cell_type": "code",
   "execution_count": 94,
   "metadata": {},
   "outputs": [
    {
     "name": "stdout",
     "output_type": "stream",
     "text": [
      "입력 값 범위 오류 입니다. 다시 시도해주세요.\n"
     ]
    }
   ],
   "source": [
    "#(1) 다음 점수 구간에 맞게 학점을 출력하세요.\n",
    "# 91 ~ 100 : A학점\n",
    "# 81 ~ 90 :  B학점\n",
    "# 71 ~ 80 :  C학점\n",
    "# 61 ~ 70 :  D학점\n",
    "# 60이하   :  F학점\n",
    "\n",
    "# 범위 안에 안 든 점수가 들어올 수 도 있다. else보다 elif 해주자.\n",
    "\n",
    "i = int(input(\"점수: \"))\n",
    "\n",
    "if (i > 100) | (i <0):\n",
    "    print(\"입력 값 범위 오류 입니다. 다시 시도해주세요.\")\n",
    "elif i > 90:\n",
    "    print(f\" {i} 점수로 A 학점 입니다.\")\n",
    "elif i > 80:\n",
    "    print(f\" {i} 점수로 B 학점 입니다.\")\n",
    "elif i > 70:\n",
    "    print(f\" {i} 점수로 C 학점 입니다.\")\n",
    "elif i > 60:\n",
    "    print(f\" {i} 점수로 D 학점 입니다.\")\n",
    "else:\n",
    "    print(f\" {i} 점수로 F 학점 입니다.\")\n"
   ]
  },
  {
   "cell_type": "code",
   "execution_count": null,
   "metadata": {},
   "outputs": [],
   "source": [
    "i = int(input())\n",
    "\n",
    "if i > 89:\n",
    "    print('A')\n",
    "elif i > 79:\n",
    "    print('B')\n",
    "elif i > 69:\n",
    "    print(\"C\")\n",
    "elif i > 59:\n",
    "    print(\"D\")\n",
    "else:\n",
    "    print(\"F\")"
   ]
  },
  {
   "cell_type": "code",
   "execution_count": 98,
   "metadata": {},
   "outputs": [
    {
     "name": "stdout",
     "output_type": "stream",
     "text": [
      "사용할 수 있습니다.\n"
     ]
    }
   ],
   "source": [
    "#(2) 사용자로 부터 ID를 입력 받은 뒤 입력받은 ID가 5글자 이상이면 \"사용할 수 있습니다.\"를 5글자 미만이면 \"사용할 수 없는 ID입니다.\"를 출력하세요.\n",
    "id = input(\"아이디 :\")\n",
    "\n",
    "if len(id) > 4:\n",
    "    print(\"사용할 수 있습니다.\")\n",
    "else:\n",
    "    print(\"사용할 수 없는 ID 입니다.\")"
   ]
  },
  {
   "cell_type": "code",
   "execution_count": 104,
   "metadata": {},
   "outputs": [
    {
     "name": "stdout",
     "output_type": "stream",
     "text": [
      "특별시나 광역시가 아닙니다.\n"
     ]
    }
   ],
   "source": [
    "#(3) 사용자로부터 우리나라 도시명을 입력 받은 뒤 입력받은 도시명이 서울이면 \"특별시\"를 인천,부산,광주,대구,대전,울산 이면 \"광역시\"를 나머지는 \"특별시나 광역시가 아닙니다.\"를 출력하세요.\n",
    "city = input(\"도시 :\")\n",
    "\n",
    "if city == \"서울\":\n",
    "    print(f\"{city}특별시\")\n",
    "elif city in [\"인천\", \"부산\", \"광주\", \"대구\", \"대전\", \"울산\"]:\n",
    "    print(f\"{city}광역시\")\n",
    "else:\n",
    "    print(\"특별시나 광역시가 아닙니다.\")"
   ]
  },
  {
   "cell_type": "code",
   "execution_count": 114,
   "metadata": {},
   "outputs": [
    {
     "data": {
      "text/plain": [
       "89.0"
      ]
     },
     "execution_count": 114,
     "metadata": {},
     "output_type": "execute_result"
    }
   ],
   "source": [
    "#(4) 아래 리스트의 평균을 구하시오. \n",
    "jumsu = [100, 90, 100, 80, 70, 100, 80, 90, 95, 85]\n",
    "sums = 0\n",
    "\n",
    "for j in jumsu:\n",
    "    sums+=j\n",
    "\n",
    "mean = sums/len(jumsu)\n",
    "\n",
    "mean\n",
    "\n"
   ]
  },
  {
   "cell_type": "code",
   "execution_count": 116,
   "metadata": {},
   "outputs": [
    {
     "name": "stdout",
     "output_type": "stream",
     "text": [
      "0-pass\n",
      "1-pass\n",
      "2-pass\n",
      "3-fail\n",
      "4-fail\n",
      "5-pass\n",
      "6-fail\n",
      "7-pass\n",
      "8-pass\n",
      "9-fail\n"
     ]
    }
   ],
   "source": [
    "#(5) 위 jumsu리스트에서 평균점수이상은 pass, 미만은 fail을 index번호와 함께 출력하시오. \n",
    "# (ex: 0-pass, 1-pass, 2-fail)\n",
    "\n",
    "for i,j in enumerate(jumsu):\n",
    "    if j >= mean:\n",
    "        print(f\"{i}-pass\")\n",
    "    else:\n",
    "        print(f\"{i}-fail\")\n",
    "\n"
   ]
  },
  {
   "cell_type": "code",
   "execution_count": 117,
   "metadata": {},
   "outputs": [
    {
     "data": {
      "text/plain": [
       "95"
      ]
     },
     "execution_count": 117,
     "metadata": {},
     "output_type": "execute_result"
    }
   ],
   "source": [
    "#(6) 아래 리스트 값들 중 최대값을 조회해 출력\n",
    "jumsu = [60, 90, 80, 80, 70, 55, 80, 90, 95, 85]\n",
    "\n",
    "max(jumsu)"
   ]
  },
  {
   "cell_type": "code",
   "execution_count": 119,
   "metadata": {},
   "outputs": [
    {
     "data": {
      "text/plain": [
       "95"
      ]
     },
     "execution_count": 119,
     "metadata": {},
     "output_type": "execute_result"
    }
   ],
   "source": [
    "m = jumsu[0]\n",
    "\n",
    "for i in range(1, len(jumsu)):\n",
    "    if jumsu[i] > m:\n",
    "        m = jumsu[i]\n",
    "\n",
    "m\n"
   ]
  },
  {
   "cell_type": "code",
   "execution_count": null,
   "metadata": {},
   "outputs": [],
   "source": [
    "jumsu = [60, 90, 80, 80, 70, 55, 80, 90, 95, 85]\n",
    "\n",
    "max1 = 0\n",
    "for i in jumsu :\n",
    "    if i > max1:\n",
    "        max1 = i\n",
    "print(\"최댓값:\",max1)"
   ]
  },
  {
   "cell_type": "code",
   "execution_count": 136,
   "metadata": {},
   "outputs": [
    {
     "data": {
      "text/plain": [
       "['소', '호랑이', '용', '뱀']"
      ]
     },
     "execution_count": 136,
     "metadata": {},
     "output_type": "execute_result"
    }
   ],
   "source": [
    "#(8) 다음 리스트 중에서 \"쥐\"와 \"토끼\" 제외한 나머지를 출력하세요.\n",
    "str_list = [\"쥐\", \"소\", \"호랑이\", \"토끼\", \"용\", \"뱀\"]\n",
    "\n",
    "[str for str in str_list if str not in [\"쥐\", \"토끼\"]]\n"
   ]
  },
  {
   "cell_type": "code",
   "execution_count": 137,
   "metadata": {},
   "outputs": [
    {
     "name": "stdout",
     "output_type": "stream",
     "text": [
      "소\n",
      "호랑이\n",
      "용\n",
      "뱀\n"
     ]
    }
   ],
   "source": [
    "for x in str_list:\n",
    "    if x in [\"쥐\", \"토끼\"]:\n",
    "        continue\n",
    "    print(x)"
   ]
  },
  {
   "cell_type": "code",
   "execution_count": 122,
   "metadata": {},
   "outputs": [
    {
     "name": "stdout",
     "output_type": "stream",
     "text": [
      "4 X 1 = 4\n",
      "4 X 2 = 8\n",
      "4 X 3 = 12\n",
      "4 X 4 = 16\n",
      "4 X 5 = 20\n",
      "4 X 6 = 24\n",
      "4 X 7 = 28\n",
      "4 X 8 = 32\n",
      "4 X 9 = 36\n"
     ]
    }
   ],
   "source": [
    "#(9) 사용자로부터 정수를 입력받아 그 단의 구구단을 출력하시오. \n",
    "# ex) 단을 입력하시오 : 2  \n",
    "# 2 x 1 = 2\n",
    "# 2 x 2 = 4\n",
    "#..\n",
    "# 2 x 9 = 18\n",
    "\n",
    "i = int(input(\"단을 입력하시오 : \"))\n",
    "\n",
    "for x in range(1,10):\n",
    "    print(f\"{i} X {x} = {i*x}\")"
   ]
  },
  {
   "cell_type": "code",
   "execution_count": 123,
   "metadata": {},
   "outputs": [
    {
     "data": {
      "text/plain": [
       "[20, 60, 140, 10, 240, 1400, 2, 70]"
      ]
     },
     "execution_count": 123,
     "metadata": {},
     "output_type": "execute_result"
    }
   ],
   "source": [
    "#컴프리헨션\n",
    "\n",
    "#(10) 다음 리스트가 가진 값에 두배(* 2)를 가지는 새로운 리스트를 만드시오. (리스트 컴프리헨션 이용)\n",
    "lst = [10, 30, 70, 5, 120, 700, 1, 35]\n",
    "\n",
    "[i*2 for i in lst]"
   ]
  },
  {
   "cell_type": "code",
   "execution_count": 124,
   "metadata": {},
   "outputs": [
    {
     "data": {
      "text/plain": [
       "[(10, 100),\n",
       " (30, 300),\n",
       " (70, 700),\n",
       " (5, 50),\n",
       " (5, 50),\n",
       " (120, 1200),\n",
       " (700, 7000),\n",
       " (1, 10),\n",
       " (35, 350),\n",
       " (35, 350)]"
      ]
     },
     "execution_count": 124,
     "metadata": {},
     "output_type": "execute_result"
    }
   ],
   "source": [
    "#(11) 다음 리스트가 가진 값에 10배의 값을 가지는 값을 (원래값, 10배값) 의 튜플 묶음으로 가지는 리스트를 만드시오 (리스트 컴프리헨션 이용)\n",
    "# Ex) [(10,100), (30,300), .., (35, 350)]\n",
    "lst = [10, 30, 70, 5, 5, 120, 700, 1, 35, 35]\n",
    "\n",
    "[(i, i*10) for i in lst]"
   ]
  },
  {
   "cell_type": "code",
   "execution_count": 140,
   "metadata": {},
   "outputs": [
    {
     "data": {
      "text/plain": [
       "[3, 33, 21, 33, 60, 120]"
      ]
     },
     "execution_count": 140,
     "metadata": {},
     "output_type": "execute_result"
    }
   ],
   "source": [
    "#(12) 다음 리스트가 가진 값들 중 3의 배수만 가지는 리스트를 만드시오. (리스트 컴프리헨션 이용)\n",
    "lst2 = [ 3, 20, 33, 21, 33, 8, 11, 10, 7, 17, 60, 120, 2]\n",
    "\n",
    "[i for i in lst2 if i%3==0]"
   ]
  },
  {
   "cell_type": "code",
   "execution_count": 126,
   "metadata": {},
   "outputs": [
    {
     "data": {
      "text/plain": [
       "['a.exe', 'function.exe', 'b.exe', 'run.exe']"
      ]
     },
     "execution_count": 126,
     "metadata": {},
     "output_type": "execute_result"
    }
   ],
   "source": [
    "#(13) 다음 파일이름들을 담은 리스트에서 확장자가 exe인 파일만 골라서 새로운 리스트에 담으시오.(string의 endswith()함수 이용)\n",
    "file_name=[\"test.txt\", \"a.exe\", \"jupyter.bat\", \"function.exe\", \"b.exe\", \"cat.jpg\", \"dog.png\", \"run.exe\", \"i.dll\"]\n",
    "\n",
    "[f for f in file_name if f.endswith('.exe')]"
   ]
  },
  {
   "cell_type": "code",
   "execution_count": 131,
   "metadata": {},
   "outputs": [
    {
     "data": {
      "text/plain": [
       "['mystroy.txt', 'jupyter.bat', 'function.exe']"
      ]
     },
     "execution_count": 131,
     "metadata": {},
     "output_type": "execute_result"
    }
   ],
   "source": [
    "#(14) 다음 중 10글자 이상인 파일명(확장자포함)만 가지는 리스트를 만드시오.\n",
    "file_name=[\"mystroy.txt\", \"a.exe\", \"jupyter.bat\", \"function.exe\", \"b.exe\", \"cat.jpg\", \"dog.png\", \"run.exe\", \"i.dll\"]\n",
    "\n",
    "[f for f in file_name if len(f) >= 10]\n"
   ]
  },
  {
   "cell_type": "code",
   "execution_count": 133,
   "metadata": {},
   "outputs": [
    {
     "data": {
      "text/plain": [
       "['mystroy.txt', 'jupyter.bat', 'function.exe']"
      ]
     },
     "execution_count": 133,
     "metadata": {},
     "output_type": "execute_result"
    }
   ],
   "source": [
    "\n",
    "[f for f in file_name if len(f.split('.')[0]) > 3]"
   ]
  },
  {
   "cell_type": "code",
   "execution_count": 142,
   "metadata": {},
   "outputs": [
    {
     "data": {
      "text/plain": [
       "['c', 'g', 'h', 'k']"
      ]
     },
     "execution_count": 142,
     "metadata": {},
     "output_type": "execute_result"
    }
   ],
   "source": [
    "\n",
    "#(15) 다음 리스트에서 소문자만 가지는 새로운 리스트를 만드시오.\n",
    "str_list = [\"A\", \"B\", \"c\", \"D\", \"E\", \"F\", \"g\", \"h\", \"I\", \"J\", \"k\"]\n",
    "\n",
    "[i for i in str_list if i.islower()]\n",
    "\n",
    "[i for i in str_list if i == i.lower()]"
   ]
  },
  {
   "cell_type": "code",
   "execution_count": 150,
   "metadata": {},
   "outputs": [
    {
     "data": {
      "text/plain": [
       "(False, True)"
      ]
     },
     "execution_count": 150,
     "metadata": {},
     "output_type": "execute_result"
    }
   ],
   "source": [
    "# 한글자에 대해 대소문자를 알 수 있는 함수가 있다. bool로\n",
    "# 여러개 되는데 모든 글자가 다 대문자거나 다 소문자여야 True. 하나라도 아니면 False\n",
    "\n",
    "\"A\".islower(), 'a'.islower() \n"
   ]
  },
  {
   "cell_type": "code",
   "execution_count": 152,
   "metadata": {},
   "outputs": [
    {
     "data": {
      "text/plain": [
       "(False, False)"
      ]
     },
     "execution_count": 152,
     "metadata": {},
     "output_type": "execute_result"
    }
   ],
   "source": [
    "'A'.isupper(), \"a\".isupper()\n"
   ]
  },
  {
   "cell_type": "code",
   "execution_count": null,
   "metadata": {},
   "outputs": [],
   "source": []
  }
 ],
 "metadata": {
  "kernelspec": {
   "display_name": "csy",
   "language": "python",
   "name": "python3"
  },
  "language_info": {
   "codemirror_mode": {
    "name": "ipython",
    "version": 3
   },
   "file_extension": ".py",
   "mimetype": "text/x-python",
   "name": "python",
   "nbconvert_exporter": "python",
   "pygments_lexer": "ipython3",
   "version": "3.7.15 (default, Nov 24 2022, 18:44:54) [MSC v.1916 64 bit (AMD64)]"
  },
  "orig_nbformat": 4,
  "vscode": {
   "interpreter": {
    "hash": "67ff4a1e503421e53f5d4ebcac0b03c71691604597d2dc743fd63d8a19893ef6"
   }
  }
 },
 "nbformat": 4,
 "nbformat_minor": 2
}
