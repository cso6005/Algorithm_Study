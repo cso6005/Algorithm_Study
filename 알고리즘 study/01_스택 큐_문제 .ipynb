{
 "cells": [
  {
   "cell_type": "markdown",
   "id": "03ed8edc",
   "metadata": {},
   "source": [
    "주가가격 문제\n",
    "\n",
    "초 단위로 기록된 주식가격이 담긴 배열 prices가 매개변수로 주어질 때, 가격이 떨어지지 않은 기간은 몇 초인지를 return 하도록 solution 함수를 완성하세요.\n",
    "\n",
    "제한사항\n",
    "prices의 각 가격은 1 이상 10,000 이하인 자연수입니다.\n",
    "prices의 길이는 2 이상 100,000 이하입니다.\n",
    "입출력 예\n",
    "prices\treturn\n",
    "[1, 2, 3, 2, 3]\t[4, 3, 1, 1, 0]\n",
    "\n",
    "입출력 예 설명\n",
    "1초 시점의 ₩1은 끝까지 가격이 떨어지지 않았습니다.\n",
    "2초 시점의 ₩2은 끝까지 가격이 떨어지지 않았습니다.\n",
    "3초 시점의 ₩3은 1초뒤에 가격이 떨어집니다. 따라서 1초간 가격이 떨어지지 않은 것으로 봅니다.\n",
    "4초 시점의 ₩2은 1초간 가격이 떨어지지 않았습니다.\n",
    "5초 시점의 ₩3은 0초간 가격이 떨어지지 않았습니다.\n",
    "※ 공지 - 2019년 2월 28일 지문이 리뉴얼되었습니다."
   ]
  },
  {
   "cell_type": "code",
   "execution_count": 1,
   "id": "103c436c",
   "metadata": {},
   "outputs": [
    {
     "data": {
      "text/plain": [
       "[7, 5, 1, 3, 1, 1, 1, 1, 0]"
      ]
     },
     "execution_count": 1,
     "metadata": {},
     "output_type": "execute_result"
    }
   ],
   "source": [
    "# 내가 푼 코드\n",
    "from collections import deque\n",
    "\n",
    "def solution(prices):\n",
    "    answer = []\n",
    "    prices = deque(prices) # prices 원소가 있는 큐 만든다.\n",
    "    while prices: # pop으로 [] 빈 큐일 때 false 빈큐가 될 때까지.\n",
    "        c = prices.popleft() # 첫번째 원소 빼낸다.\n",
    "        cnt = 0\n",
    "        for i in prices:\n",
    "            cnt += 1\n",
    "            if c > i: # 빼낸 후의 큐 원소들과 하나하나 비교.\n",
    "                break # 떨어진 주가 시점에서 중단.\n",
    "\n",
    "        answer.append(cnt)\n",
    "\n",
    "    return answer\n",
    "solution([1, 2, 3, 2, 3, 2, 1,0, 1]) # 테스트 케이스"
   ]
  },
  {
   "cell_type": "code",
   "execution_count": 2,
   "id": "fd3798d9",
   "metadata": {},
   "outputs": [
    {
     "data": {
      "text/plain": [
       "[7, 5, 1, 3, 1, 1, 1, 1, 0]"
      ]
     },
     "execution_count": 2,
     "metadata": {},
     "output_type": "execute_result"
    }
   ],
   "source": [
    "# 내가 푼 코드\n",
    "\n",
    "def solution(prices):\n",
    "    answer = []\n",
    "    le = len(prices)\n",
    "    for i in range(le):\n",
    "        cnt = 0\n",
    "        for j in range(i+1,le):\n",
    "            cnt+=1 # 1초씩 지났다는 의미\n",
    "            if prices[i]>prices[j]: # 떨어졌는지 비교\n",
    "                break\n",
    "        answer.append(cnt)       \n",
    "    return answer\n",
    "    \n",
    "solution([1, 2, 3, 2, 3, 2, 1,0, 1]) # 테스트 케이스"
   ]
  },
  {
   "cell_type": "code",
   "execution_count": 3,
   "id": "984317cf",
   "metadata": {},
   "outputs": [
    {
     "data": {
      "text/plain": [
       "[7, 5, 1, 3, 1, 1, 1, 1, 0]"
      ]
     },
     "execution_count": 3,
     "metadata": {},
     "output_type": "execute_result"
    }
   ],
   "source": [
    "# STACK EXAMPLE different people\n",
    "\n",
    "def solution(p):\n",
    "    ans = [0] * len(p)\n",
    "    stack = [0]\n",
    "    for i in range(1, len(p)):\n",
    "        if p[i] < p[stack[-1]]:\n",
    "            for j in stack[::-1]:\n",
    "                if p[i] < p[j]:\n",
    "                    ans[j] = i-j\n",
    "                    stack.remove(j)\n",
    "                else:\n",
    "                    break\n",
    "        stack.append(i)\n",
    "    for i in range(0, len(stack)-1):\n",
    "        ans[stack[i]] = len(p) - stack[i] - 1\n",
    "    return ans\n",
    "\n",
    "solution([1, 2, 3, 2, 3, 2, 1,0, 1]) # 테스트 케이스"
   ]
  },
  {
   "cell_type": "code",
   "execution_count": null,
   "id": "63d34982",
   "metadata": {},
   "outputs": [],
   "source": [
    "## time error -> 큐로 하면\n",
    "# 주가가격 문제\n",
    "\n",
    "from queue import Queue\n",
    "\n",
    "def solution(prices):\n",
    "    answer = []\n",
    "    prices = Queue(prices)\n",
    "\n",
    "    while prices: # pop으로 [] 빈 큐일 때 false\n",
    "        c = prices.get() # 첫번째 원소 빼낸다.\n",
    "        cnt = 0\n",
    "        for i in prices:\n",
    "            cnt += 1\n",
    "            if c > i: # 빼낸 후의 큐 원소들과 하나하나 비교.\n",
    "                break # 떨어진 주가 시점에서 중단.\n",
    "\n",
    "        answer.append(cnt)\n",
    "\n",
    "    return answer\n",
    "\n",
    "solution([1, 2, 3, 2, 3, 2, 1,0,1])"
   ]
  },
  {
   "cell_type": "code",
   "execution_count": null,
   "id": "11097450",
   "metadata": {},
   "outputs": [],
   "source": [
    "# OH NOOOOOOO \n",
    "# WIRTING\n",
    "def solution(prices):\n",
    "    cnt = 0\n",
    "    p = prices\n",
    "    answer = [0] * len(prices)\n",
    "    \n",
    "    while p:\n",
    "        c = p.pop()\n",
    "        inx = len(p) \n",
    "        for i in prices[inx-1::]:\n",
    "            print(prices)\n",
    "            cnt+=1\n",
    "            print(i)\n",
    "            if c > i:\n",
    "                break\n",
    "        print(inx, cnt)\n",
    "        answer[inx] = cnt\n",
    "        \n",
    "    return answer\n",
    "        \n",
    "\n",
    "\n",
    "    \n",
    "solution([1, 2, 3, 2, 3, 2, 1,0,1])"
   ]
  },
  {
   "cell_type": "markdown",
   "id": "17e8a8a8",
   "metadata": {},
   "source": [
    "#### (프로그래머스) 기능 개발 문제\n",
    "\n",
    "프로그래머스 팀에서는 기능 개선 작업을 수행 중입니다. 각 기능은 진도가 100%일 때 서비스에 반영할 수 있습니다.\n",
    "\n",
    "\n",
    "또, 각 기능의 개발속도는 모두 다르기 때문에 뒤에 있는 기능이 앞에 있는 기능보다 먼저 개발될 수 있고,\n",
    "\n",
    "\n",
    "이때 뒤에 있는 기능은 앞에 있는 기능이 배포될 때 함께 배포됩니다.\n",
    "\n",
    "\n",
    "\n",
    "먼저 배포되어야 하는 순서대로 작업의 진도가 적힌 정수 배열 progresses와\n",
    "\n",
    "\n",
    "각 작업의 개발 속도가 적힌 정수 배열 speeds가 주어질 때\n",
    "\n",
    "\n",
    "각 배포마다 몇 개의 기능이 배포되는지를 return 하도록 solution 함수를 완성하세요."
   ]
  },
  {
   "cell_type": "code",
   "execution_count": 3,
   "id": "1f534958",
   "metadata": {},
   "outputs": [
    {
     "data": {
      "text/plain": [
       "[2, 1]"
      ]
     },
     "execution_count": 3,
     "metadata": {},
     "output_type": "execute_result"
    }
   ],
   "source": [
    "# 내가 푼 코드\n",
    "# 리스트로 오류 해결\n",
    "\n",
    "\n",
    "from collections import deque\n",
    "import math\n",
    "\n",
    "def solution(progresses,speeds):\n",
    "\n",
    "    answer = []\n",
    "    jdays = [math.ceil((100 - progresses[n])/speeds[n]) for n in range(len(progresses))]\n",
    "    jdays = deque(jdays)\n",
    "    \n",
    "    while jdays:\n",
    "        c = 1\n",
    "        cnt = jdays.popleft()\n",
    "        \n",
    "        for i in list(jdays):\n",
    "            if cnt < i:\n",
    "                break\n",
    "                \n",
    "            c += 1\n",
    "            jdays.popleft()\n",
    "        \n",
    "        answer.append(c)\n",
    "                \n",
    "        \n",
    "    return answer\n",
    "        \n",
    "solution([93,30,55],[1,30,5])    \n",
    "\n",
    "# solution([95, 90, 99, 99, 80, 99], [1, 1, 1, 1, 1, 1])"
   ]
  },
  {
   "cell_type": "code",
   "execution_count": 2,
   "id": "ea60a0b4",
   "metadata": {},
   "outputs": [
    {
     "data": {
      "text/plain": [
       "[1, 3, 2]"
      ]
     },
     "execution_count": 2,
     "metadata": {},
     "output_type": "execute_result"
    }
   ],
   "source": [
    "# 내가 푼 코드\n",
    "\n",
    "# copy 로 오류 해결\n",
    "\n",
    "from collections import deque\n",
    "import math\n",
    "import copy\n",
    "\n",
    "def solution(progresses,speeds):\n",
    "\n",
    "    answer = []\n",
    "    jdays = [math.ceil((100 - progresses[n])/speeds[n]) for n in range(len(progresses))]\n",
    "    jdays = deque(jdays)\n",
    "    \n",
    "    while jdays:\n",
    "        c = 1\n",
    "        cnt = jdays.popleft()\n",
    "        \n",
    "        for i in copy.deepcopy(jdays):\n",
    "            if cnt < i:\n",
    "                break  \n",
    "            c += 1\n",
    "            jdays.popleft()\n",
    "        answer.append(c) \n",
    "    return answer\n",
    "        \n",
    "solution([93,30,55],[1,30,5])    \n",
    "solution([95, 90, 99, 99, 80, 99], [1, 1, 1, 1, 1, 1])\n",
    "\n",
    "\n"
   ]
  },
  {
   "cell_type": "code",
   "execution_count": 4,
   "id": "6b448397",
   "metadata": {},
   "outputs": [
    {
     "name": "stdout",
     "output_type": "stream",
     "text": [
      "[[5, 1]]\n",
      "[[5, 1], [10, 1]]\n",
      "[[5, 1], [10, 2]]\n",
      "[[5, 1], [10, 3]]\n",
      "[[5, 1], [10, 3], [20, 1]]\n",
      "[[5, 1], [10, 3], [20, 2]]\n"
     ]
    },
    {
     "data": {
      "text/plain": [
       "[1, 3, 2]"
      ]
     },
     "execution_count": 4,
     "metadata": {},
     "output_type": "execute_result"
    }
   ],
   "source": [
    "# 대박 타 풀이\n",
    "\n",
    "def solution(progresses, speeds):\n",
    "    Q=[]\n",
    "    for p, s in zip(progresses, speeds):\n",
    "        \n",
    "        if len(Q)==0 or Q[-1][0] < -((p-100)//s):  \n",
    "            \n",
    "            Q.append([-((p-100)//s),1]) # 1이 뜻하는 것은 현재 \n",
    "            print(Q)\n",
    "            \n",
    "        else: # 앞 원소가 더 크다면\n",
    "            Q[-1][1]+=1 # 하루 기능구현수 +1 한다.\n",
    "            print(Q)\n",
    "    \n",
    "    return [q[1] for q in Q]\n",
    "\n",
    "\n",
    "solution([95, 90, 99, 99, 80, 99], [1, 1, 1, 1, 1, 1])\n",
    "\n"
   ]
  },
  {
   "cell_type": "markdown",
   "id": "46c9f95f",
   "metadata": {},
   "source": [
    "#### 위 코드 풀이\n",
    "\n",
    "-  Q[  [ 제일 앞에 있는 원소(배포의 기준이 되는 작업일수1), 기능수 ], [ 배포의 기준이 되는 작업일수2 , 기능수 ] , ...]\n",
    "\n",
    "- ==>  [ 제일 앞에 있는 원소(배포의 기준이 되는 작업일수1), 기능수 ]   를   리스트에 담았다.\n",
    "\n",
    "- ==> 처음에는 기능수에 1을 담고 기준 작업일수 보다 작거나 같으면 +1 하였다.\n",
    "\n",
    "- ==> 기준 작업일수보다 크다면 해당 인덱스 작업 일수가 배포일의 기준이 되고 기능수 1과 함께 리스트로 묶어 Q에 넣어준다. 이제부터 이게 기준이 됨.  그렇다면, 항상 마지막 안 리스트 들이 배포 기준이 되는 작업일수일 것이다.\n",
    "\n",
    " \n",
    "\n",
    "- ==> 처리 다하면 기능수를 뜻하는 안 리스트 들의 [1] 들을 리스트에 담아 retrun 하면 됨"
   ]
  },
  {
   "cell_type": "code",
   "execution_count": null,
   "id": "599b0601",
   "metadata": {},
   "outputs": [],
   "source": []
  },
  {
   "cell_type": "code",
   "execution_count": null,
   "id": "07afb5d8",
   "metadata": {},
   "outputs": [],
   "source": []
  },
  {
   "cell_type": "code",
   "execution_count": null,
   "id": "8624692c",
   "metadata": {},
   "outputs": [],
   "source": []
  },
  {
   "cell_type": "code",
   "execution_count": null,
   "id": "96ebfbd6",
   "metadata": {},
   "outputs": [],
   "source": []
  }
 ],
 "metadata": {
  "kernelspec": {
   "display_name": "Python 3 (ipykernel)",
   "language": "python",
   "name": "python3"
  },
  "language_info": {
   "codemirror_mode": {
    "name": "ipython",
    "version": 3
   },
   "file_extension": ".py",
   "mimetype": "text/x-python",
   "name": "python",
   "nbconvert_exporter": "python",
   "pygments_lexer": "ipython3",
   "version": "3.9.12"
  }
 },
 "nbformat": 4,
 "nbformat_minor": 5
}
